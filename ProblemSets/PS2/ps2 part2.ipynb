{
  "cells": [
    {
      "metadata": {},
      "cell_type": "markdown",
      "source": "# Ps2 part 2 Numerical Integration\n### by [Ying Cai]\nThe code in this Jupyter notebook was written using Python 3.6. "
    },
    {
      "metadata": {},
      "cell_type": "markdown",
      "source": "**Exercise 2.1.** You can verify that the analytical solution to the integral of the function\n\\begin{equation*}\n  g(x)=0.1x^4 -1.5x^3 + 0.53x^2 + 2x + 1\n\\end{equation*}\nbetween $x=-10$ and $x=10$ is $\\int_{-10}^{10} g(x)dx = 4,373.3\\bar{3}$. Write a Python function that will take as arguments an anonymous function that the user specifies representing $g(x)$, integration bounds $a$ and $b$, the number of intervals $N$, and\n```python\nmethod = {'midpoint', 'trapezoid', 'Simpsons'}\n```\nUsing the composite methods, evaluate the numerical approximations of the integral $\\int_a^b g(x)dx$ using all three Newton-Cotes methods in your function and compare the difference between the values of these integrals to the true analytical value of the integral."
    },
    {
      "metadata": {
        "trusted": true
      },
      "cell_type": "code",
      "source": "true_val = 0.02*(10**5-(-10)**5)+0.53/3*(10**3-(-10)**3)+20\ndef Newton_integr(g,a,b,N,method='midpoint'):\n    if method not in ['midpoint','trapezoid', 'simpsons']:\n        raise ValueError\n    else:\n        if method == 'midpoint':\n            unit = 0\n            for i in range(N):\n                unit += g(a+(2.0*i+1)*(b-a)/(2*N))\n            return (b-a)*unit/N\n        if method == 'trapezoid':\n            unit = g(a)+g(b)\n            for i in range(1,N):\n                unit += 2.0*g(a+i*(b-a)/N)\n            return (b-a)*unit/(2.0*N)\n        if method == 'simpsons':\n            unit = g(a)+g(b)+4.0*g(a+(2*N-1)*(b-a)/(2*N))\n            for i in range(1,N):\n                unit += 4.0*g(a+(2*i-1)*(b-a)/(2*N))\n                unit += 2.0*g(a+2*i*(b-a)/(2*N))\n            return (b-a)*unit/(6*N)\ng_test = lambda x: 0.1*x**4-1.5*x**3+0.53*x**2+2*x+1\n\nfor method in ['midpoint','trapezoid', 'simpsons']:\n    val_test = Newton_integr(g_test, -10, 10, 100000, method)\n    print(\"approximate integration by\",method,\"method is:\",val_test)\n    print(\"Absolute error of\",method,\"method is\",abs(integr-exact))",
      "execution_count": 8,
      "outputs": [
        {
          "output_type": "stream",
          "text": "approximate integration by midpoint method is: 4373.333331964723\nAbsolute error of midpoint method is 1.482476363889873e-10\napproximate integration by trapezoid method is: 4373.333336070682\nAbsolute error of trapezoid method is 1.482476363889873e-10\napproximate integration by simpsons method is: 4373.333333333185\nAbsolute error of simpsons method is 1.482476363889873e-10\n",
          "name": "stdout"
        }
      ]
    },
    {
      "metadata": {},
      "cell_type": "markdown",
      "source": "**Exercise 2.2.** Write a Python function that makes a Newton-Cotes discrete approximation of the distribution of the normally distributed variable $Z \\sim N(\\mu,\\sigma)$. Let this function take as arguments the mean $\\mu$, the standard deviation $\\sigma$, the number of equally spaced nodes $N$ to estimate the distribution, and the number of standard deviations $k$ away from $\\mu$ to make the furthest nodes on either side of $\\mu$. Use the [`scipy.stats.norm.cdf`](http://docs.scipy.org/doc/scipy/reference/generated/scipy.stats.norm.html#scipy.stats.norm) command for the cdf of the normal distribution to compute the weights $\\omega_n$ for the nodes $x_n$. Have this function return a vector of nodes of $[Z_1,Z_2,...Z_N]$ and a vector of weights $[\\omega_1,\\omega_2,...\\omega_N]$ such that $\\omega_i$ is given by the integral under the normal distribution between the midpoints of the two closest nodes. Define $f(Z;\\mu,\\sigma)$ as the pdf of the normal distribution and $F(Z;\\mu,\\sigma)$ as the cdf.\n\\begin{equation*}\n  \\begin{split}\n    &\\omega_i =\n      \\begin{cases}\n        F\\left(\\frac{Z_1 + Z_2}{2};\\mu,\\sigma\\right) \\quad\\quad\\quad\\quad\\:\\text{if}\\quad i = 1 \\\\\n        \\int_{Z_{min}}^{Z_{max}}f(Z;\\mu,\\sigma)dZ \\quad\\quad\\:\\:\\text{if}\\quad 1<i<N \\\\\n        1 - F\\left(\\frac{Z_{N-1} + Z_{N}}{2};\\mu,\\sigma\\right) \\quad\\text{if}\\quad i = N\n      \\end{cases} \\\\\n    &\\text{where}\\quad Z_{min} = \\frac{Z_{i-1} + Z_{i}}{2} \\quad\\text{and}\\quad Z_{max} = \\frac{Z_{i} + Z_{i+1}}{2}\n  \\end{split}\n\\end{equation*}\nWhat are the weights and nodes $\\{\\omega_n,Z_n\\}_{n=1}^N$ for $N=11$?"
    },
    {
      "metadata": {
        "trusted": true
      },
      "cell_type": "code",
      "source": "import numpy as np\nimport pandas as pd\nfrom scipy.stats import norm\nfrom scipy.integrate import quad\ndef Newton_Cotes(N, mu=0, sigma=1, k=4):\n    nodes = np.linspace(mu-k*sigma, mu+k*sigma, N)\n    weights = np.zeros(N)\n    weights[0] = norm.cdf((nodes[0]+nodes[1])/2, loc=mu, scale=sigma)\n    for i in range(1,N-1):\n        f = lambda x:norm.pdf(x, loc=mu, scale=sigma)\n        weights[i] = quad(f,(nodes[i-1]+nodes[i])/2,(nodes[i+1]+nodes[i])/2)[0]\n    weights[N-1] = 1-norm.cdf((nodes[N-2]+nodes[N-1])/2, loc=mu, scale=sigma)\n    return nodes, weights\nnodes, weights = Newton_Cotes(11)\n\ndisp = pd.DataFrame({\"Nodes\":nodes,\"weights\":weights})\nprint('For N = 11\\n', disp)\n",
      "execution_count": 39,
      "outputs": [
        {
          "output_type": "stream",
          "text": "For N = 11\n     Nodes   weights\n0    -4.0  0.000159\n1    -3.2  0.002396\n2    -2.4  0.020195\n3    -1.6  0.092320\n4    -0.8  0.229509\n5     0.0  0.310843\n6     0.8  0.229509\n7     1.6  0.092320\n8     2.4  0.020195\n9     3.2  0.002396\n10    4.0  0.000159\n",
          "name": "stdout"
        }
      ]
    },
    {
      "metadata": {},
      "cell_type": "markdown",
      "source": "**Exercise 2.3.** If $Z\\sim N(\\mu,\\sigma)$, then $A\\equiv e^Z\\sim LN(\\mu,\\sigma)$ is distributed lognormally and $\\log(A)\\sim N(\\mu,\\sigma)$. Use your knowledge that $A\\equiv e^Z$, $\\log(A)\\sim N(\\mu,\\sigma)$, and your function from Exercise 2.2 to write a function that gives a discrete approximation to the lognormal distribution. Note: You will not end up with evenly spaced nodes $[A_1,A_2,...A_N]$, but your weights should be the same as in Exercise 2.2."
    },
    {
      "metadata": {
        "trusted": true
      },
      "cell_type": "code",
      "source": "def Newton_Cotes_log(N, mu=0, sigma=1, k=4):\n    Z = np.linspace(mu-k*sigma, mu+k*sigma, N)\n    nodes = np.e**Z\n    weights = np.zeros(N)\n    weights[0] = norm.cdf((Z[0]+Z[1])/2, loc=mu, scale=sigma)\n    for i in range(1,N-1):\n        func = lambda x:norm.pdf(x, loc=mu, scale=sigma)\n        weights[i] = quad(func,(Z[i-1]+Z[i])/2,(Z[i+1]+Z[i])/2)[0]\n    weights[N-1] = 1-norm.cdf((Z[N-2]+Z[N-1])/2, loc=mu, scale=sigma)\n    return nodes, weight\n\nnodes, weights = Newton_Cotes_log(11)\n\ndisp = pd.DataFrame({\"Nodes\":nodes,\"weights\":weights})\nprint('For N = 11\\n', disp)\n",
      "execution_count": 44,
      "outputs": [
        {
          "output_type": "stream",
          "text": "For N = 11\n         Nodes   weights\n0    0.018316  0.000159\n1    0.040762  0.002396\n2    0.090718  0.020195\n3    0.201897  0.092320\n4    0.449329  0.229509\n5    1.000000  0.310843\n6    2.225541  0.229509\n7    4.953032  0.092320\n8   11.023176  0.020195\n9   24.532530  0.002396\n10  54.598150  0.000159\n",
          "name": "stdout"
        }
      ]
    },
    {
      "metadata": {},
      "cell_type": "markdown",
      "source": "**Exercise 2.4.** Let $Y_i$ represent the income of individual $i$ in the United States for all individuals $i$. Assume that income $Y_i$ is lognormally distributed in the U.S. according to $Y_i\\sim LN(\\mu,\\sigma)$, where the mean of log income is $\\mu = 10.5$ and the standard deviation of log income is $\\sigma = 0.8$. Use your function from Exercise 2.3 to compute an approximation of the expected value of income or average income in the U.S. How does your approximation compare to the exact expected value of $E[Y] = e^{\\mu + \\frac{\\sigma^2}{2}}$?"
    },
    {
      "metadata": {
        "trusted": true
      },
      "cell_type": "code",
      "source": "import array as arr\nnodes, weights = Newton_Cotes_log(100, mu=10.5, sigma=0.8, k=4)\nval_exact = np.exp(10.5+0.8*0.8/2)\napprox = sum(nodes*arr.transpose(weights))\n\nprint('The difference between my result and the exact expectation is:')\nprint(abs)",
      "execution_count": 16,
      "outputs": [
        {
          "output_type": "stream",
          "text": "The difference between my result and the exact expectation is:\n0.5334533017885406\n",
          "name": "stdout"
        }
      ]
    },
    {
      "metadata": {},
      "cell_type": "markdown",
      "source": "**Exercise 3.1.** Approximate the integral of the function in Exercise 2.1 using Gaussian quadrature with $N=3$, $(\\omega_1,\\omega_2,\\omega_3,x_1,x_2,x_3)$. Use the class of polynomials $h_i(x)=x^i$. How does the accuracy of your approximated integral compare to the approximations from Exercise 2.1 and the true known value of the integral?"
    },
    {
      "metadata": {
        "trusted": true
      },
      "cell_type": "code",
      "source": "import scipy as sp\ndef Gaussian(g,a,b,N=3):\n    init_weight = [1/N for i in range(N)]\n    init_x = [a+i*(b-a)/(N-1) for i in range(N)]\n    init = init_weight+init_x\n    def func(x):\n        result = []\n        for i in range(2*N):\n            weight = x[:N]\n            node = x[N:]\n            Sum = sum(weight[k]*(node[k]**i) for k in range(N))\n            result.append((b**(i+1)-a**(i+1))/(i+1)-Sum)\n        return tuple(k for k in result)\n    Vector = [k for k in sp.optimize.root(func, init)['x']]\n    weight = Vector[:N]\n    node = Vector[N:]\n    counter = 0\n    for i in range(N):\n        counter += weight[i]*g(node[i])\n    return counter\ntest_func = lambda x: 0.1*x**4-1.5*x**3+0.53*x**2+2*x+1\nGauss = Gaussian(test_func, -10, 10)\nNewton = integrate(test_func, -10, 10, 10000, \"Simpsons\")\nExact = 0.02*(10**5-(-10)**5)+0.53/3*(10**3-(-10)**3)+20\nprint(\"The result of Gaussian approximate is\", Gauss)\nprint('The absolute error of Gaussian approximate is', abs(Gauss-Exact))\nprint(\"The result of Newton-Cotes approximate is\", Newton)\nprint('The absolute error of Newton-Cotes approximate is', abs(Newton-Exact))",
      "execution_count": 19,
      "outputs": [
        {
          "output_type": "stream",
          "text": "The result of Gaussian approximate is 4373.333333189591\nThe absolute error of Gaussian approximate is 1.4374199963640422e-07\nThe result of Newton-Cotes approximate is 4373.33333333337\nThe absolute error of Newton-Cotes approximate is 3.728928277269006e-11\n",
          "name": "stdout"
        }
      ]
    },
    {
      "metadata": {},
      "cell_type": "markdown",
      "source": "**Exercise 3.2.** Use the Python Gaussian quadrature command [`scipy.integrate.quad`](http://docs.scipy.org/doc/scipy/reference/generated/scipy.integrate.quad.html#scipy.integrate.quad) to numerically approximate the integral from Exercise 2.1.\n\\begin{equation*}\n  \\int_{-10}^{10} g(x)dx \\quad\\text{where}\\quad g(x)=0.1x^4 -1.5x^3 + 0.53x^2 + 2x + 1\n\\end{equation*}\nHow does the approximated integral using the [`scipy.integrate.quad`](http://docs.scipy.org/doc/scipy/reference/generated/scipy.integrate.quad.html#scipy.integrate.quad) command compare to the exact value of the function?"
    },
    {
      "metadata": {
        "trusted": true
      },
      "cell_type": "code",
      "source": "Quad = quad(lambda x: 0.1*x**4-1.5*x**3+0.53*x**2+2*x+1, -10, 10)[0]\nprint(\"The result of Python Gaussian approximate is\", Quad)\nprint('The absolute error of Python Gaussian approximate is', abs(Quad-Exact))",
      "execution_count": 20,
      "outputs": [
        {
          "output_type": "stream",
          "text": "The result of Python Gaussian approximate is 4373.333333333334\nThe absolute error of Python Gaussian approximate is 9.094947017729282e-13\n",
          "name": "stdout"
        }
      ]
    },
    {
      "metadata": {},
      "cell_type": "markdown",
      "source": "**Exercise 4.1.** Use Monte Carlo integration to approximate the value of $\\pi$. Define a function in that takes as arguments a function $g(\\mathbf{x})$ of a vector of variables $\\mathbf{x}$, the domain $\\Omega$ of $\\mathbf{x}$, and the number of random draws $N$ and returns the Monte Carlo approximation of the integral $\\int_\\Omega g(\\mathbf{x}) d\\mathbf{x}$. Let $\\Omega$ be a generalized rectangle--width $x$ and height $y$. In order to approximate $\\pi$, let the functional form of the anonymous function be $g(x,y)$ from Section 4.1 with domain $\\Omega = [-1,1]\\times[-1,1]$. What is the smallest number of random draws $N$ from $\\Omega$ that matches the true value of $\\pi$ to the 4th decimal 3.1415? Set the random seed in your uniform random number generator to 25. This will make the correct answer consistent across submissions."
    },
    {
      "metadata": {
        "trusted": true
      },
      "cell_type": "code",
      "source": "def isPrime(n):\n    '''\n    --------------------------------------------------------------------\n    This function returns a boolean indicating whether an integer n is a\n    prime number\n    --------------------------------------------------------------------\n    INPUTS:\n    n = scalar, any scalar value\n\n    OTHER FUNCTIONS AND FILES CALLED BY THIS FUNCTION: None\n\n    OBJECTS CREATED WITHIN FUNCTION:\n    i = integer in [2, sqrt(n)]\n\n    FILES CREATED BY THIS FUNCTION: None\n\n    RETURN: boolean\n    --------------------------------------------------------------------\n    '''\n    for i in range(2, int(np.sqrt(n) + 1)):\n        if n % i == 0:\n            return False\n\n    return True\n\ndef primes_ascend(N, min_val=2):\n    '''\n    --------------------------------------------------------------------\n    This function generates an ordered sequence of N consecutive prime\n    numbers, the smallest of which is greater than or equal to 1 using\n    the Sieve of Eratosthenes algorithm.\n    (https://en.wikipedia.org/wiki/Sieve_of_Eratosthenes)\n    --------------------------------------------------------------------\n    INPUTS:\n    N       = integer, number of elements in sequence of consecutive\n              prime numbers\n    min_val = scalar >= 2, the smallest prime number in the consecutive\n              sequence must be greater-than-or-equal-to this value\n\n    OTHER FUNCTIONS AND FILES CALLED BY THIS FUNCTION:\n        isPrime()\n\n    OBJECTS CREATED WITHIN FUNCTION:\n    primes_vec     = (N,) vector, consecutive prime numbers greater than\n                     min_val\n    MinIsEven      = boolean, =True if min_val is even, =False otherwise\n    MinIsGrtrThn2  = boolean, =True if min_val is\n                     greater-than-or-equal-to 2, =False otherwise\n    curr_prime_ind = integer >= 0, running count of prime numbers found\n\n    FILES CREATED BY THIS FUNCTION: None\n\n    RETURN: primes_vec\n    --------------------------------------------------------------------\n    '''\n    primes_vec = np.zeros(N, dtype=int)\n    MinIsEven = 1 - min_val % 2\n    MinIsGrtrThn2 = min_val > 2\n    curr_prime_ind = 0\n    if not MinIsGrtrThn2:\n        i = 2\n        curr_prime_ind += 1\n        primes_vec[0] = i\n    i = min(3, min_val + (MinIsEven * 1))\n    while curr_prime_ind < N:\n        if isPrime(i):\n            curr_prime_ind += 1\n            primes_vec[curr_prime_ind - 1] = i\n        i += 2\n\n    return primes_vec",
      "execution_count": 27,
      "outputs": []
    },
    {
      "metadata": {
        "trusted": true
      },
      "cell_type": "code",
      "source": "def M_C(N, func=None, omega=[-1,1,-1,1]):\n    counter = 0\n    x_1 = np.random.uniform(omega[0],omega[1],size=N)\n    x_2 = np.random.uniform(omega[2],omega[3],size=N)\n    def g(x,y):\n        if x**2+y**2<=1:\n            return 1\n        else:\n            return 0\n    for i in range(N):\n        x,y = x_1[i],x_2[i]\n        if func is None:\n            counter += g(x,y)\n        else:\n            counter += func(x,y)\n    return 4*counter/N\nnp.random.seed(25)\njudge = False\nmin_N = 0\nwhile judge is False:\n    min_N += 1\n    judge = (round(M_C(min_N),4)==3.1415)\nprint(\"The smallest number of random draws N is\", min_N)",
      "execution_count": 22,
      "outputs": [
        {
          "output_type": "stream",
          "text": "The smallest number of random draws N is 615\n",
          "name": "stdout"
        }
      ]
    },
    {
      "metadata": {},
      "cell_type": "markdown",
      "source": "**Exercise 4.2.** Define a function in that returns the $n$-th element of a $d$-dimensional equidistributed sequence.  It should have support for the four sequences in the Table in Section 4.2."
    },
    {
      "metadata": {
        "trusted": true
      },
      "cell_type": "code",
      "source": "def equidistribution(n,d,Type='weyl'):\n    prime_vector = primes_ascend(d)\n    def rational_list(d):\n        return [1/(i+1) for i in range(d)]\n    def cut(x):\n        return x-x//1\n    if Type == 'weyl':\n        return tuple(cut(n*np.sqrt(prime_vector[i])) for i in range(d))\n    elif Type == 'haber':\n        return tuple(cut(n*(n+1)*0.5*np.sqrt(prime_vector[i])) for i in range(d))\n    elif Type == 'nie':\n        return tuple(cut(n*(2**(i/(n+1)))) for i in range(d))\n    elif Type == 'baker':\n        return tuple(cut(n*(np.e**(rational_list(d)[i]))) for i in range(d))",
      "execution_count": 23,
      "outputs": []
    },
    {
      "metadata": {},
      "cell_type": "markdown",
      "source": "**Exercise 4.3** Repeat Exercise 4.1 to approximate the value of $\\pi$, this time using quasi-Monte Carlo integration.  You will need to appropriately scale the equidistributed sequences. Compare the rates of convergence. What is the smallest number of random draws $N$ from $\\Omega$ for the quasi-Monte Carlo integration that matches the true value of $\\pi$ to the 4th decimal 3.1415?. Set the seed in your uniform random number generator to 25. This will make the correct answer consistent across submissions."
    },
    {
      "metadata": {
        "trusted": true
      },
      "cell_type": "code",
      "source": "def quasi_M_C(N,Type, func=None,omega=[-1,1,-1,1]):\n    counter = 0\n    x = []\n    for k in range(N):\n        x.append((2*equidistribution(k,2,Type)[0]-1,2*equidistribution(k,2,Type)[1]-1))\n    def g(X):\n        x,y = X[0], X[1]\n        if x**2+y**2<=1:\n            return 1\n        else:\n            return 0\n    for i in range(N):\n        X = x[i]\n        if func is None:\n            counter += g(X)\n        else:\n            counter += func(X)\n    return 4*counter/N\nText = \"The smallest number of random draws N\"\nprint(Text, \"for M-C method is\", min_N)\nfor method in ['weyl','haber', 'baker']:\n    judge = False\n    min_N2 = 0\n    while judge is False:\n        min_N2 += 1\n        judge = (round(quasi_M_C(min_N2,Type = method),4)==3.1415)\n    print(Text, \"for quasi-M-C method with type\",method, \"is\", min_N2)",
      "execution_count": 24,
      "outputs": [
        {
          "output_type": "stream",
          "text": "The smallest number of random draws N for M-C method is 615\nThe smallest number of random draws N for quasi-M-C method with type weyl is 1230\nThe smallest number of random draws N for quasi-M-C method with type haber is 2064\nThe smallest number of random draws N for quasi-M-C method with type baker is 205\n",
          "name": "stdout"
        }
      ]
    },
    {
      "metadata": {
        "trusted": true
      },
      "cell_type": "code",
      "source": "round(quasi_M_C(100000,Type = method),4)-3.1415",
      "execution_count": 25,
      "outputs": [
        {
          "output_type": "execute_result",
          "execution_count": 25,
          "data": {
            "text/plain": "-0.000300000000000189"
          },
          "metadata": {}
        }
      ]
    },
    {
      "metadata": {
        "trusted": true
      },
      "cell_type": "code",
      "source": "",
      "execution_count": null,
      "outputs": []
    }
  ],
  "metadata": {
    "kernelspec": {
      "name": "python36",
      "display_name": "Python 3.6",
      "language": "python"
    },
    "language_info": {
      "mimetype": "text/x-python",
      "nbconvert_exporter": "python",
      "name": "python",
      "pygments_lexer": "ipython3",
      "version": "3.6.6",
      "file_extension": ".py",
      "codemirror_mode": {
        "version": 3,
        "name": "ipython"
      }
    }
  },
  "nbformat": 4,
  "nbformat_minor": 1
}